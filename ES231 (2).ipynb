{
  "nbformat": 4,
  "nbformat_minor": 0,
  "metadata": {
    "colab": {
      "provenance": []
    },
    "kernelspec": {
      "name": "python3",
      "display_name": "Python 3"
    },
    "language_info": {
      "name": "python"
    }
  },
  "cells": [
    {
      "cell_type": "code",
      "execution_count": 2,
      "metadata": {
        "colab": {
          "base_uri": "https://localhost:8080/",
          "height": 74
        },
        "id": "OTtqUxhgqOXE",
        "outputId": "f6f8acb3-44ba-4856-c8ca-ffc78762ff46"
      },
      "outputs": [
        {
          "output_type": "display_data",
          "data": {
            "text/plain": [
              "<IPython.core.display.HTML object>"
            ],
            "text/html": [
              "\n",
              "     <input type=\"file\" id=\"files-a9f5564b-fb74-49a0-89be-9f8647d46e0f\" name=\"files[]\" multiple disabled\n",
              "        style=\"border:none\" />\n",
              "     <output id=\"result-a9f5564b-fb74-49a0-89be-9f8647d46e0f\">\n",
              "      Upload widget is only available when the cell has been executed in the\n",
              "      current browser session. Please rerun this cell to enable.\n",
              "      </output>\n",
              "      <script>// Copyright 2017 Google LLC\n",
              "//\n",
              "// Licensed under the Apache License, Version 2.0 (the \"License\");\n",
              "// you may not use this file except in compliance with the License.\n",
              "// You may obtain a copy of the License at\n",
              "//\n",
              "//      http://www.apache.org/licenses/LICENSE-2.0\n",
              "//\n",
              "// Unless required by applicable law or agreed to in writing, software\n",
              "// distributed under the License is distributed on an \"AS IS\" BASIS,\n",
              "// WITHOUT WARRANTIES OR CONDITIONS OF ANY KIND, either express or implied.\n",
              "// See the License for the specific language governing permissions and\n",
              "// limitations under the License.\n",
              "\n",
              "/**\n",
              " * @fileoverview Helpers for google.colab Python module.\n",
              " */\n",
              "(function(scope) {\n",
              "function span(text, styleAttributes = {}) {\n",
              "  const element = document.createElement('span');\n",
              "  element.textContent = text;\n",
              "  for (const key of Object.keys(styleAttributes)) {\n",
              "    element.style[key] = styleAttributes[key];\n",
              "  }\n",
              "  return element;\n",
              "}\n",
              "\n",
              "// Max number of bytes which will be uploaded at a time.\n",
              "const MAX_PAYLOAD_SIZE = 100 * 1024;\n",
              "\n",
              "function _uploadFiles(inputId, outputId) {\n",
              "  const steps = uploadFilesStep(inputId, outputId);\n",
              "  const outputElement = document.getElementById(outputId);\n",
              "  // Cache steps on the outputElement to make it available for the next call\n",
              "  // to uploadFilesContinue from Python.\n",
              "  outputElement.steps = steps;\n",
              "\n",
              "  return _uploadFilesContinue(outputId);\n",
              "}\n",
              "\n",
              "// This is roughly an async generator (not supported in the browser yet),\n",
              "// where there are multiple asynchronous steps and the Python side is going\n",
              "// to poll for completion of each step.\n",
              "// This uses a Promise to block the python side on completion of each step,\n",
              "// then passes the result of the previous step as the input to the next step.\n",
              "function _uploadFilesContinue(outputId) {\n",
              "  const outputElement = document.getElementById(outputId);\n",
              "  const steps = outputElement.steps;\n",
              "\n",
              "  const next = steps.next(outputElement.lastPromiseValue);\n",
              "  return Promise.resolve(next.value.promise).then((value) => {\n",
              "    // Cache the last promise value to make it available to the next\n",
              "    // step of the generator.\n",
              "    outputElement.lastPromiseValue = value;\n",
              "    return next.value.response;\n",
              "  });\n",
              "}\n",
              "\n",
              "/**\n",
              " * Generator function which is called between each async step of the upload\n",
              " * process.\n",
              " * @param {string} inputId Element ID of the input file picker element.\n",
              " * @param {string} outputId Element ID of the output display.\n",
              " * @return {!Iterable<!Object>} Iterable of next steps.\n",
              " */\n",
              "function* uploadFilesStep(inputId, outputId) {\n",
              "  const inputElement = document.getElementById(inputId);\n",
              "  inputElement.disabled = false;\n",
              "\n",
              "  const outputElement = document.getElementById(outputId);\n",
              "  outputElement.innerHTML = '';\n",
              "\n",
              "  const pickedPromise = new Promise((resolve) => {\n",
              "    inputElement.addEventListener('change', (e) => {\n",
              "      resolve(e.target.files);\n",
              "    });\n",
              "  });\n",
              "\n",
              "  const cancel = document.createElement('button');\n",
              "  inputElement.parentElement.appendChild(cancel);\n",
              "  cancel.textContent = 'Cancel upload';\n",
              "  const cancelPromise = new Promise((resolve) => {\n",
              "    cancel.onclick = () => {\n",
              "      resolve(null);\n",
              "    };\n",
              "  });\n",
              "\n",
              "  // Wait for the user to pick the files.\n",
              "  const files = yield {\n",
              "    promise: Promise.race([pickedPromise, cancelPromise]),\n",
              "    response: {\n",
              "      action: 'starting',\n",
              "    }\n",
              "  };\n",
              "\n",
              "  cancel.remove();\n",
              "\n",
              "  // Disable the input element since further picks are not allowed.\n",
              "  inputElement.disabled = true;\n",
              "\n",
              "  if (!files) {\n",
              "    return {\n",
              "      response: {\n",
              "        action: 'complete',\n",
              "      }\n",
              "    };\n",
              "  }\n",
              "\n",
              "  for (const file of files) {\n",
              "    const li = document.createElement('li');\n",
              "    li.append(span(file.name, {fontWeight: 'bold'}));\n",
              "    li.append(span(\n",
              "        `(${file.type || 'n/a'}) - ${file.size} bytes, ` +\n",
              "        `last modified: ${\n",
              "            file.lastModifiedDate ? file.lastModifiedDate.toLocaleDateString() :\n",
              "                                    'n/a'} - `));\n",
              "    const percent = span('0% done');\n",
              "    li.appendChild(percent);\n",
              "\n",
              "    outputElement.appendChild(li);\n",
              "\n",
              "    const fileDataPromise = new Promise((resolve) => {\n",
              "      const reader = new FileReader();\n",
              "      reader.onload = (e) => {\n",
              "        resolve(e.target.result);\n",
              "      };\n",
              "      reader.readAsArrayBuffer(file);\n",
              "    });\n",
              "    // Wait for the data to be ready.\n",
              "    let fileData = yield {\n",
              "      promise: fileDataPromise,\n",
              "      response: {\n",
              "        action: 'continue',\n",
              "      }\n",
              "    };\n",
              "\n",
              "    // Use a chunked sending to avoid message size limits. See b/62115660.\n",
              "    let position = 0;\n",
              "    do {\n",
              "      const length = Math.min(fileData.byteLength - position, MAX_PAYLOAD_SIZE);\n",
              "      const chunk = new Uint8Array(fileData, position, length);\n",
              "      position += length;\n",
              "\n",
              "      const base64 = btoa(String.fromCharCode.apply(null, chunk));\n",
              "      yield {\n",
              "        response: {\n",
              "          action: 'append',\n",
              "          file: file.name,\n",
              "          data: base64,\n",
              "        },\n",
              "      };\n",
              "\n",
              "      let percentDone = fileData.byteLength === 0 ?\n",
              "          100 :\n",
              "          Math.round((position / fileData.byteLength) * 100);\n",
              "      percent.textContent = `${percentDone}% done`;\n",
              "\n",
              "    } while (position < fileData.byteLength);\n",
              "  }\n",
              "\n",
              "  // All done.\n",
              "  yield {\n",
              "    response: {\n",
              "      action: 'complete',\n",
              "    }\n",
              "  };\n",
              "}\n",
              "\n",
              "scope.google = scope.google || {};\n",
              "scope.google.colab = scope.google.colab || {};\n",
              "scope.google.colab._files = {\n",
              "  _uploadFiles,\n",
              "  _uploadFilesContinue,\n",
              "};\n",
              "})(self);\n",
              "</script> "
            ]
          },
          "metadata": {}
        },
        {
          "output_type": "stream",
          "name": "stdout",
          "text": [
            "Saving ERCOT 2019.csv to ERCOT 2019.csv\n"
          ]
        }
      ],
      "source": [
        "import numpy as np\n",
        "import matplotlib.pyplot as plt\n",
        "\n",
        "from google.colab import files\n",
        " \n",
        " \n",
        "uploaded = files.upload()"
      ]
    },
    {
      "cell_type": "code",
      "source": [
        "import pandas as pd\n",
        "import io\n",
        "import datetime\n",
        " \n",
        "data = pd.read_csv(io.BytesIO(uploaded['ERCOT 2019.csv']))"
      ],
      "metadata": {
        "id": "z-kQzHcYqwLb"
      },
      "execution_count": 3,
      "outputs": []
    },
    {
      "cell_type": "code",
      "source": [
        "uploaded = files.upload()\n"
      ],
      "metadata": {
        "colab": {
          "base_uri": "https://localhost:8080/",
          "height": 391
        },
        "id": "MpwUb5cvxhMT",
        "outputId": "e7d0da64-aa25-4457-81f9-d6a4f5c1eb35"
      },
      "execution_count": 47,
      "outputs": [
        {
          "output_type": "display_data",
          "data": {
            "text/plain": [
              "<IPython.core.display.HTML object>"
            ],
            "text/html": [
              "\n",
              "     <input type=\"file\" id=\"files-96b35782-2ab8-47b5-aa30-e3d27f2c375d\" name=\"files[]\" multiple disabled\n",
              "        style=\"border:none\" />\n",
              "     <output id=\"result-96b35782-2ab8-47b5-aa30-e3d27f2c375d\">\n",
              "      Upload widget is only available when the cell has been executed in the\n",
              "      current browser session. Please rerun this cell to enable.\n",
              "      </output>\n",
              "      <script>// Copyright 2017 Google LLC\n",
              "//\n",
              "// Licensed under the Apache License, Version 2.0 (the \"License\");\n",
              "// you may not use this file except in compliance with the License.\n",
              "// You may obtain a copy of the License at\n",
              "//\n",
              "//      http://www.apache.org/licenses/LICENSE-2.0\n",
              "//\n",
              "// Unless required by applicable law or agreed to in writing, software\n",
              "// distributed under the License is distributed on an \"AS IS\" BASIS,\n",
              "// WITHOUT WARRANTIES OR CONDITIONS OF ANY KIND, either express or implied.\n",
              "// See the License for the specific language governing permissions and\n",
              "// limitations under the License.\n",
              "\n",
              "/**\n",
              " * @fileoverview Helpers for google.colab Python module.\n",
              " */\n",
              "(function(scope) {\n",
              "function span(text, styleAttributes = {}) {\n",
              "  const element = document.createElement('span');\n",
              "  element.textContent = text;\n",
              "  for (const key of Object.keys(styleAttributes)) {\n",
              "    element.style[key] = styleAttributes[key];\n",
              "  }\n",
              "  return element;\n",
              "}\n",
              "\n",
              "// Max number of bytes which will be uploaded at a time.\n",
              "const MAX_PAYLOAD_SIZE = 100 * 1024;\n",
              "\n",
              "function _uploadFiles(inputId, outputId) {\n",
              "  const steps = uploadFilesStep(inputId, outputId);\n",
              "  const outputElement = document.getElementById(outputId);\n",
              "  // Cache steps on the outputElement to make it available for the next call\n",
              "  // to uploadFilesContinue from Python.\n",
              "  outputElement.steps = steps;\n",
              "\n",
              "  return _uploadFilesContinue(outputId);\n",
              "}\n",
              "\n",
              "// This is roughly an async generator (not supported in the browser yet),\n",
              "// where there are multiple asynchronous steps and the Python side is going\n",
              "// to poll for completion of each step.\n",
              "// This uses a Promise to block the python side on completion of each step,\n",
              "// then passes the result of the previous step as the input to the next step.\n",
              "function _uploadFilesContinue(outputId) {\n",
              "  const outputElement = document.getElementById(outputId);\n",
              "  const steps = outputElement.steps;\n",
              "\n",
              "  const next = steps.next(outputElement.lastPromiseValue);\n",
              "  return Promise.resolve(next.value.promise).then((value) => {\n",
              "    // Cache the last promise value to make it available to the next\n",
              "    // step of the generator.\n",
              "    outputElement.lastPromiseValue = value;\n",
              "    return next.value.response;\n",
              "  });\n",
              "}\n",
              "\n",
              "/**\n",
              " * Generator function which is called between each async step of the upload\n",
              " * process.\n",
              " * @param {string} inputId Element ID of the input file picker element.\n",
              " * @param {string} outputId Element ID of the output display.\n",
              " * @return {!Iterable<!Object>} Iterable of next steps.\n",
              " */\n",
              "function* uploadFilesStep(inputId, outputId) {\n",
              "  const inputElement = document.getElementById(inputId);\n",
              "  inputElement.disabled = false;\n",
              "\n",
              "  const outputElement = document.getElementById(outputId);\n",
              "  outputElement.innerHTML = '';\n",
              "\n",
              "  const pickedPromise = new Promise((resolve) => {\n",
              "    inputElement.addEventListener('change', (e) => {\n",
              "      resolve(e.target.files);\n",
              "    });\n",
              "  });\n",
              "\n",
              "  const cancel = document.createElement('button');\n",
              "  inputElement.parentElement.appendChild(cancel);\n",
              "  cancel.textContent = 'Cancel upload';\n",
              "  const cancelPromise = new Promise((resolve) => {\n",
              "    cancel.onclick = () => {\n",
              "      resolve(null);\n",
              "    };\n",
              "  });\n",
              "\n",
              "  // Wait for the user to pick the files.\n",
              "  const files = yield {\n",
              "    promise: Promise.race([pickedPromise, cancelPromise]),\n",
              "    response: {\n",
              "      action: 'starting',\n",
              "    }\n",
              "  };\n",
              "\n",
              "  cancel.remove();\n",
              "\n",
              "  // Disable the input element since further picks are not allowed.\n",
              "  inputElement.disabled = true;\n",
              "\n",
              "  if (!files) {\n",
              "    return {\n",
              "      response: {\n",
              "        action: 'complete',\n",
              "      }\n",
              "    };\n",
              "  }\n",
              "\n",
              "  for (const file of files) {\n",
              "    const li = document.createElement('li');\n",
              "    li.append(span(file.name, {fontWeight: 'bold'}));\n",
              "    li.append(span(\n",
              "        `(${file.type || 'n/a'}) - ${file.size} bytes, ` +\n",
              "        `last modified: ${\n",
              "            file.lastModifiedDate ? file.lastModifiedDate.toLocaleDateString() :\n",
              "                                    'n/a'} - `));\n",
              "    const percent = span('0% done');\n",
              "    li.appendChild(percent);\n",
              "\n",
              "    outputElement.appendChild(li);\n",
              "\n",
              "    const fileDataPromise = new Promise((resolve) => {\n",
              "      const reader = new FileReader();\n",
              "      reader.onload = (e) => {\n",
              "        resolve(e.target.result);\n",
              "      };\n",
              "      reader.readAsArrayBuffer(file);\n",
              "    });\n",
              "    // Wait for the data to be ready.\n",
              "    let fileData = yield {\n",
              "      promise: fileDataPromise,\n",
              "      response: {\n",
              "        action: 'continue',\n",
              "      }\n",
              "    };\n",
              "\n",
              "    // Use a chunked sending to avoid message size limits. See b/62115660.\n",
              "    let position = 0;\n",
              "    do {\n",
              "      const length = Math.min(fileData.byteLength - position, MAX_PAYLOAD_SIZE);\n",
              "      const chunk = new Uint8Array(fileData, position, length);\n",
              "      position += length;\n",
              "\n",
              "      const base64 = btoa(String.fromCharCode.apply(null, chunk));\n",
              "      yield {\n",
              "        response: {\n",
              "          action: 'append',\n",
              "          file: file.name,\n",
              "          data: base64,\n",
              "        },\n",
              "      };\n",
              "\n",
              "      let percentDone = fileData.byteLength === 0 ?\n",
              "          100 :\n",
              "          Math.round((position / fileData.byteLength) * 100);\n",
              "      percent.textContent = `${percentDone}% done`;\n",
              "\n",
              "    } while (position < fileData.byteLength);\n",
              "  }\n",
              "\n",
              "  // All done.\n",
              "  yield {\n",
              "    response: {\n",
              "      action: 'complete',\n",
              "    }\n",
              "  };\n",
              "}\n",
              "\n",
              "scope.google = scope.google || {};\n",
              "scope.google.colab = scope.google.colab || {};\n",
              "scope.google.colab._files = {\n",
              "  _uploadFiles,\n",
              "  _uploadFilesContinue,\n",
              "};\n",
              "})(self);\n",
              "</script> "
            ]
          },
          "metadata": {}
        },
        {
          "output_type": "stream",
          "name": "stdout",
          "text": [
            "Saving 2010.csv to 2010.csv\n",
            "Saving 2011.csv to 2011.csv\n",
            "Saving 2012.csv to 2012.csv\n",
            "Saving 2013.csv to 2013.csv\n",
            "Saving 2014.csv to 2014.csv\n",
            "Saving 2015.csv to 2015.csv\n",
            "Saving 2016.csv to 2016.csv\n",
            "Saving 2017.csv to 2017.csv\n",
            "Saving 2018.csv to 2018.csv\n",
            "Saving 2019.csv to 2019.csv\n"
          ]
        }
      ]
    },
    {
      "cell_type": "code",
      "source": [
        "uploaded = files.upload()\n"
      ],
      "metadata": {
        "colab": {
          "base_uri": "https://localhost:8080/",
          "height": 74
        },
        "id": "Hg689wOz05jZ",
        "outputId": "1460aabf-4fb2-42e3-f374-c1d60f5bede6"
      },
      "execution_count": 87,
      "outputs": [
        {
          "output_type": "display_data",
          "data": {
            "text/plain": [
              "<IPython.core.display.HTML object>"
            ],
            "text/html": [
              "\n",
              "     <input type=\"file\" id=\"files-7920e935-71f0-4e1c-a66f-963aa0752cef\" name=\"files[]\" multiple disabled\n",
              "        style=\"border:none\" />\n",
              "     <output id=\"result-7920e935-71f0-4e1c-a66f-963aa0752cef\">\n",
              "      Upload widget is only available when the cell has been executed in the\n",
              "      current browser session. Please rerun this cell to enable.\n",
              "      </output>\n",
              "      <script>// Copyright 2017 Google LLC\n",
              "//\n",
              "// Licensed under the Apache License, Version 2.0 (the \"License\");\n",
              "// you may not use this file except in compliance with the License.\n",
              "// You may obtain a copy of the License at\n",
              "//\n",
              "//      http://www.apache.org/licenses/LICENSE-2.0\n",
              "//\n",
              "// Unless required by applicable law or agreed to in writing, software\n",
              "// distributed under the License is distributed on an \"AS IS\" BASIS,\n",
              "// WITHOUT WARRANTIES OR CONDITIONS OF ANY KIND, either express or implied.\n",
              "// See the License for the specific language governing permissions and\n",
              "// limitations under the License.\n",
              "\n",
              "/**\n",
              " * @fileoverview Helpers for google.colab Python module.\n",
              " */\n",
              "(function(scope) {\n",
              "function span(text, styleAttributes = {}) {\n",
              "  const element = document.createElement('span');\n",
              "  element.textContent = text;\n",
              "  for (const key of Object.keys(styleAttributes)) {\n",
              "    element.style[key] = styleAttributes[key];\n",
              "  }\n",
              "  return element;\n",
              "}\n",
              "\n",
              "// Max number of bytes which will be uploaded at a time.\n",
              "const MAX_PAYLOAD_SIZE = 100 * 1024;\n",
              "\n",
              "function _uploadFiles(inputId, outputId) {\n",
              "  const steps = uploadFilesStep(inputId, outputId);\n",
              "  const outputElement = document.getElementById(outputId);\n",
              "  // Cache steps on the outputElement to make it available for the next call\n",
              "  // to uploadFilesContinue from Python.\n",
              "  outputElement.steps = steps;\n",
              "\n",
              "  return _uploadFilesContinue(outputId);\n",
              "}\n",
              "\n",
              "// This is roughly an async generator (not supported in the browser yet),\n",
              "// where there are multiple asynchronous steps and the Python side is going\n",
              "// to poll for completion of each step.\n",
              "// This uses a Promise to block the python side on completion of each step,\n",
              "// then passes the result of the previous step as the input to the next step.\n",
              "function _uploadFilesContinue(outputId) {\n",
              "  const outputElement = document.getElementById(outputId);\n",
              "  const steps = outputElement.steps;\n",
              "\n",
              "  const next = steps.next(outputElement.lastPromiseValue);\n",
              "  return Promise.resolve(next.value.promise).then((value) => {\n",
              "    // Cache the last promise value to make it available to the next\n",
              "    // step of the generator.\n",
              "    outputElement.lastPromiseValue = value;\n",
              "    return next.value.response;\n",
              "  });\n",
              "}\n",
              "\n",
              "/**\n",
              " * Generator function which is called between each async step of the upload\n",
              " * process.\n",
              " * @param {string} inputId Element ID of the input file picker element.\n",
              " * @param {string} outputId Element ID of the output display.\n",
              " * @return {!Iterable<!Object>} Iterable of next steps.\n",
              " */\n",
              "function* uploadFilesStep(inputId, outputId) {\n",
              "  const inputElement = document.getElementById(inputId);\n",
              "  inputElement.disabled = false;\n",
              "\n",
              "  const outputElement = document.getElementById(outputId);\n",
              "  outputElement.innerHTML = '';\n",
              "\n",
              "  const pickedPromise = new Promise((resolve) => {\n",
              "    inputElement.addEventListener('change', (e) => {\n",
              "      resolve(e.target.files);\n",
              "    });\n",
              "  });\n",
              "\n",
              "  const cancel = document.createElement('button');\n",
              "  inputElement.parentElement.appendChild(cancel);\n",
              "  cancel.textContent = 'Cancel upload';\n",
              "  const cancelPromise = new Promise((resolve) => {\n",
              "    cancel.onclick = () => {\n",
              "      resolve(null);\n",
              "    };\n",
              "  });\n",
              "\n",
              "  // Wait for the user to pick the files.\n",
              "  const files = yield {\n",
              "    promise: Promise.race([pickedPromise, cancelPromise]),\n",
              "    response: {\n",
              "      action: 'starting',\n",
              "    }\n",
              "  };\n",
              "\n",
              "  cancel.remove();\n",
              "\n",
              "  // Disable the input element since further picks are not allowed.\n",
              "  inputElement.disabled = true;\n",
              "\n",
              "  if (!files) {\n",
              "    return {\n",
              "      response: {\n",
              "        action: 'complete',\n",
              "      }\n",
              "    };\n",
              "  }\n",
              "\n",
              "  for (const file of files) {\n",
              "    const li = document.createElement('li');\n",
              "    li.append(span(file.name, {fontWeight: 'bold'}));\n",
              "    li.append(span(\n",
              "        `(${file.type || 'n/a'}) - ${file.size} bytes, ` +\n",
              "        `last modified: ${\n",
              "            file.lastModifiedDate ? file.lastModifiedDate.toLocaleDateString() :\n",
              "                                    'n/a'} - `));\n",
              "    const percent = span('0% done');\n",
              "    li.appendChild(percent);\n",
              "\n",
              "    outputElement.appendChild(li);\n",
              "\n",
              "    const fileDataPromise = new Promise((resolve) => {\n",
              "      const reader = new FileReader();\n",
              "      reader.onload = (e) => {\n",
              "        resolve(e.target.result);\n",
              "      };\n",
              "      reader.readAsArrayBuffer(file);\n",
              "    });\n",
              "    // Wait for the data to be ready.\n",
              "    let fileData = yield {\n",
              "      promise: fileDataPromise,\n",
              "      response: {\n",
              "        action: 'continue',\n",
              "      }\n",
              "    };\n",
              "\n",
              "    // Use a chunked sending to avoid message size limits. See b/62115660.\n",
              "    let position = 0;\n",
              "    do {\n",
              "      const length = Math.min(fileData.byteLength - position, MAX_PAYLOAD_SIZE);\n",
              "      const chunk = new Uint8Array(fileData, position, length);\n",
              "      position += length;\n",
              "\n",
              "      const base64 = btoa(String.fromCharCode.apply(null, chunk));\n",
              "      yield {\n",
              "        response: {\n",
              "          action: 'append',\n",
              "          file: file.name,\n",
              "          data: base64,\n",
              "        },\n",
              "      };\n",
              "\n",
              "      let percentDone = fileData.byteLength === 0 ?\n",
              "          100 :\n",
              "          Math.round((position / fileData.byteLength) * 100);\n",
              "      percent.textContent = `${percentDone}% done`;\n",
              "\n",
              "    } while (position < fileData.byteLength);\n",
              "  }\n",
              "\n",
              "  // All done.\n",
              "  yield {\n",
              "    response: {\n",
              "      action: 'complete',\n",
              "    }\n",
              "  };\n",
              "}\n",
              "\n",
              "scope.google = scope.google || {};\n",
              "scope.google.colab = scope.google.colab || {};\n",
              "scope.google.colab._files = {\n",
              "  _uploadFiles,\n",
              "  _uploadFilesContinue,\n",
              "};\n",
              "})(self);\n",
              "</script> "
            ]
          },
          "metadata": {}
        },
        {
          "output_type": "stream",
          "name": "stdout",
          "text": [
            "Saving CAISO 2030.csv to CAISO 2030.csv\n"
          ]
        }
      ]
    },
    {
      "cell_type": "code",
      "source": [
        "dc = pd.read_csv(io.BytesIO(uploaded['CAISO 2030.csv']))\n"
      ],
      "metadata": {
        "id": "5U34u0mQ07as"
      },
      "execution_count": 89,
      "outputs": []
    },
    {
      "cell_type": "code",
      "source": [
        "de10 = pd.read_csv(io.BytesIO(uploaded['2010.csv']))\n",
        "de11 = pd.read_csv(io.BytesIO(uploaded['2011.csv']))\n",
        "de12 = pd.read_csv(io.BytesIO(uploaded['2012.csv']))\n",
        "de13 = pd.read_csv(io.BytesIO(uploaded['2013.csv']))\n",
        "de14 = pd.read_csv(io.BytesIO(uploaded['2014.csv']))\n",
        "de15 = pd.read_csv(io.BytesIO(uploaded['2015.csv']))\n",
        "de16 = pd.read_csv(io.BytesIO(uploaded['2016.csv']))\n",
        "de17 = pd.read_csv(io.BytesIO(uploaded['2017.csv']))\n",
        "de18 = pd.read_csv(io.BytesIO(uploaded['2018.csv']))\n",
        "de19 = pd.read_csv(io.BytesIO(uploaded['2019.csv']))"
      ],
      "metadata": {
        "id": "xh-q0mgYtni2"
      },
      "execution_count": 48,
      "outputs": []
    },
    {
      "cell_type": "code",
      "source": [
        "de = []"
      ],
      "metadata": {
        "id": "1CfhC2XHvK13"
      },
      "execution_count": 69,
      "outputs": []
    },
    {
      "cell_type": "code",
      "source": [
        "# Group the rows by node ID\n",
        "grouped = de19.groupby('pnode_id')\n",
        "\n",
        "grouped.get_group(1)\n",
        "# Iterate over each group\n",
        "for pnode_id, group_df in grouped:\n",
        "    # Do something with the group\n",
        "    # group_df contains all the rows associated with the current node_id\n",
        "    #print(pnode_id)\n",
        "\n",
        "    de.append(group_df)\n",
        "\n",
        "print(de)\n",
        "print(len(de[0]))"
      ],
      "metadata": {
        "id": "DZrUj9YhvAGD"
      },
      "execution_count": null,
      "outputs": []
    },
    {
      "cell_type": "code",
      "source": [
        "dr = pd.read_csv(io.BytesIO(uploaded['ERCOT 2030.csv']))"
      ],
      "metadata": {
        "id": "U7Jj7HBiovoN"
      },
      "execution_count": 42,
      "outputs": []
    },
    {
      "cell_type": "code",
      "source": [
        "dt = pd.read_csv(io.BytesIO(uploaded['da_hrl_lmps.csv']))\n",
        "print(dt)"
      ],
      "metadata": {
        "id": "v2SS6noYzxyM"
      },
      "execution_count": null,
      "outputs": []
    },
    {
      "cell_type": "code",
      "source": [
        "print(dt['total_lmp_da'])"
      ],
      "metadata": {
        "colab": {
          "base_uri": "https://localhost:8080/"
        },
        "id": "XB8Ktea50710",
        "outputId": "48df2230-0c74-47e0-d38e-3d76cb933e28"
      },
      "execution_count": 42,
      "outputs": [
        {
          "output_type": "stream",
          "name": "stdout",
          "text": [
            "0         35.402800\n",
            "1         38.336592\n",
            "2         34.040000\n",
            "3         34.040000\n",
            "4         35.190000\n",
            "            ...    \n",
            "950611    21.200000\n",
            "950612    19.380000\n",
            "950613    21.460000\n",
            "950614    20.690000\n",
            "950615    20.650000\n",
            "Name: total_lmp_da, Length: 950616, dtype: float64\n"
          ]
        }
      ]
    },
    {
      "cell_type": "code",
      "source": [
        "import matplotlib.dates as mpl_dates\n",
        "\n",
        "# Create a pandas dataframe\n",
        "df = pd.DataFrame({'Value': data['Inflated to 2020 prices']})\n",
        "\n",
        "# Convert hours to datetime objects\n",
        "df['Datetime'] = pd.to_datetime(data['Hour Index'], unit='h', origin=datetime.datetime(2019, 1, 1))\n",
        "\n",
        "# Set the 'Datetime' column as the index\n",
        "df.set_index('Datetime', inplace=True)\n",
        "\n",
        "# Slice the dataframe to only include data from January\n",
        "# df = df.loc['2019-01-01':'2019-01-31']\n",
        "\n",
        "# Create the figure and axes objects\n",
        "fig, ax = plt.subplots(figsize=(10, 6))\n",
        "\n",
        "# Plot a line chart\n",
        "ax.plot(df.index, df['Value'], color='#4C72B0', linewidth=2, label='Value')\n",
        "\n",
        "# Set x-axis tick labels to show only month and day\n",
        "date_format = mpl_dates.DateFormatter('%b %d')\n",
        "ax.xaxis.set_major_formatter(date_format)\n",
        "ax.tick_params(axis='x', labelsize=10)\n",
        "\n",
        "# Add a grid and customize its appearance\n",
        "ax.grid(True, linestyle='--', color='lightgray', alpha=0.5, axis='y')\n",
        "\n",
        "# Add a legend and customize its appearance\n",
        "ax.legend(frameon=False, fontsize=12, loc='upper left')\n",
        "\n",
        "# Add labels and title\n",
        "plt.xlabel('Date', fontsize=14, labelpad=10)\n",
        "plt.ylabel('Value', fontsize=14, labelpad=10)\n",
        "plt.title('Line Chart over the First Month of 2019', fontsize=16, pad=20)\n",
        "\n",
        "# Set the background color of the plot area\n",
        "ax.set_facecolor('#F5F5F5')\n",
        "\n",
        "# Show the plot\n",
        "plt.show()\n",
        "\n",
        "\n",
        "\n"
      ],
      "metadata": {
        "colab": {
          "base_uri": "https://localhost:8080/",
          "height": 599
        },
        "id": "L1jsGsjIq4CV",
        "outputId": "272c7451-cec3-4073-c3d5-4cbda05a8825"
      },
      "execution_count": 4,
      "outputs": [
        {
          "output_type": "display_data",
          "data": {
            "text/plain": [
              "<Figure size 1000x600 with 1 Axes>"
            ],
            "image/png": "[encoded data removed]"
          },
          "metadata": {}
        }
      ]
    },
    {
      "cell_type": "code",
      "source": [
        "plt.plot(df.index, df['Value'])\n"
      ],
      "metadata": {
        "id": "mJBOHicuq81Q"
      },
      "execution_count": null,
      "outputs": []
    },
    {
      "cell_type": "code",
      "source": [
        "print(data['Inflated to 2020 prices'])"
      ],
      "metadata": {
        "colab": {
          "base_uri": "https://localhost:8080/"
        },
        "id": "zmJqWYu2cwH2",
        "outputId": "3159edc4-3b15-44cd-c94d-6830dc3adac6"
      },
      "execution_count": 6,
      "outputs": [
        {
          "output_type": "stream",
          "name": "stdout",
          "text": [
            "0       0.020743\n",
            "1       0.020014\n",
            "2       0.019801\n",
            "3       0.019447\n",
            "4       0.021482\n",
            "          ...   \n",
            "8755    0.018981\n",
            "8756    0.017625\n",
            "8757    0.016025\n",
            "8758    0.015428\n",
            "8759    0.014638\n",
            "Name: Inflated to 2020 prices, Length: 8760, dtype: float64\n"
          ]
        }
      ]
    },
    {
      "cell_type": "code",
      "source": [
        "# Define constants\n",
        "capex = 900  # Initial capex in $/kW\n",
        "system_size = 10000 # System size in kW\n",
        "years = 10  # Number of years\n",
        "hours_per_year = 8766  # Number of hours per year\n",
        "rated_current_density = 1.7  # Rated current density in A/cm^2\n",
        "rated_voltage = 1.75  # Operating voltage at rated current density\n",
        "electrode_area = 1e7 / (rated_current_density * rated_voltage)  # Electrode area in cm^2\n",
        "molecular_weight_h2 = 2.016  # Molecular weight of H2 in g/mol\n",
        "cell_voltage_degradation_rate = 0.0015 / 1000  # Cell voltage degradation rate per 1000 hours\n",
        "faraday_constant = 96485  # Faraday's constant in C/mol\n",
        "om = 0.05  # O&M cost factor\n",
        "\n",
        "#add some constants for the non-linear fit so that they can be increased with the voltage degradation\n",
        "observed_voltages = [1.44926681, 1.46814217, 1.4868864, 1.50550044, 1.52398517, 1.54234149, 1.56057031, 1.5786725, 1.59664894, 1.61450051, 1.63222807, 1.64983249, 1.66731462, 1.68467532, 1.70191541, 1.71903575, 1.73603716, 1.75292048, 1.76968651, 1.78633608, 1.80286999, 1.81928905, 1.83559406, 1.8517858, 1.86786507, 1.88383264, 1.8996893, 1.9154358, 1.93107293, 1.94660143, 1.97733558, 1.99254272, 2.00764422, 2.02264082, 2.03753325, 2.05232223, 2.06700847, 2.0815927, 2.09607562, 2.11045794, 2.12474035, 2.13892354, 2.15300821, 2.16699505, 2.18088472, 2.19467791, 2.20837529, 2.22197752, 2.23548526, 2.24889917, 2.2622199, 2.27544809, 2.2885844, 2.30162946, 2.3145839, 2.32744835, 2.34022344, 2.35290979, 2.36550801, 2.37801872] # From Ginsberg et al. 2022 https://github.com/mv2731/PEM-TEA-public/blob/main/PEM-TEA/Code/Modes%201-3_H2%20TEA_31Mar2022.ipynb"
      ],
      "metadata": {
        "id": "lgy7V36dgFe_"
      },
      "execution_count": 7,
      "outputs": []
    },
    {
      "cell_type": "markdown",
      "source": [
        "#Update Formula with correct non-linear fit"
      ],
      "metadata": {
        "id": "uI9qjgFwk6s3"
      }
    },
    {
      "cell_type": "code",
      "source": [
        "Fit_1 = 1.44926681 #C\n",
        "Fit_2 = 2.71725674 #A\n",
        "Fit_3 = 0.06970714 #K\n",
        "\n",
        "# Add in the voltage degradation and then each time for 1.7A append the corresponding voltage (Fit_1 parameter better) value to the list to then plot how it goes up over hours (then can make the same plot that they did)\n",
        "model_voltages = (Fit_1 + Fit_2 * (1 - np.exp(-Fit_3 * np.arange(0.1, 6.1, 0.1)))) # Get voltages from the exponential fit for 0.1 to 6.0 A in increments of 0.1A\n",
        "print(model_voltages)"
      ],
      "metadata": {
        "colab": {
          "base_uri": "https://localhost:8080/"
        },
        "id": "TltPrV3U5b0B",
        "outputId": "ec74e119-f124-46cd-c835-615ae19ef0f5"
      },
      "execution_count": 8,
      "outputs": [
        {
          "output_type": "stream",
          "name": "stdout",
          "text": [
            "[1.46814217 1.4868864  1.50550044 1.52398517 1.54234149 1.56057031\n",
            " 1.5786725  1.59664894 1.61450051 1.63222807 1.64983249 1.66731462\n",
            " 1.68467532 1.70191541 1.71903575 1.73603716 1.75292048 1.76968651\n",
            " 1.78633608 1.80286999 1.81928905 1.83559406 1.8517858  1.86786507\n",
            " 1.88383264 1.8996893  1.9154358  1.93107293 1.94660143 1.96202206\n",
            " 1.97733558 1.99254272 2.00764422 2.02264082 2.03753325 2.05232223\n",
            " 2.06700847 2.0815927  2.09607562 2.11045794 2.12474035 2.13892354\n",
            " 2.15300821 2.16699505 2.18088472 2.19467791 2.20837529 2.22197752\n",
            " 2.23548526 2.24889917 2.2622199  2.27544809 2.2885844  2.30162946\n",
            " 2.3145839  2.32744835 2.34022344 2.35290979 2.36550801 2.37801872]\n"
          ]
        }
      ]
    },
    {
      "cell_type": "code",
      "source": [
        "# Add labels and title\n",
        "plt.xlabel('Current Density (A/cm^2)', fontsize=14, labelpad=10)\n",
        "plt.ylabel('Voltage (V)', fontsize=14, labelpad=10)\n",
        "plt.title('Electrolyzer Model Operating Curve', fontsize=16, pad=20)\n",
        "\n",
        "plt.plot(np.arange(0.1, 6.1, 0.1), model_voltages)\n",
        "plt.plot(np.arange(0.1, 6.1, 0.1), model_voltages)"
      ],
      "metadata": {
        "colab": {
          "base_uri": "https://localhost:8080/",
          "height": 524
        },
        "id": "51ns8t5rDRmK",
        "outputId": "445d7c92-a6d2-411f-8091-98a1ba51b763"
      },
      "execution_count": 39,
      "outputs": [
        {
          "output_type": "execute_result",
          "data": {
            "text/plain": [
              "[<matplotlib.lines.Line2D at 0x7f74bccdc700>]"
            ]
          },
          "metadata": {},
          "execution_count": 39
        },
        {
          "output_type": "display_data",
          "data": {
            "text/plain": [
              "<Figure size 640x480 with 1 Axes>"
            ],
            "image/png": "[encoded data removed]"
          },
          "metadata": {}
        }
      ]
    },
    {
      "cell_type": "code",
      "source": [
        "# Add labels and title\n",
        "plt.xlabel('Current Density (A/cm^2)', fontsize=14, labelpad=10)\n",
        "plt.ylabel('Efficiency (%)', fontsize=14, labelpad=10)\n",
        "plt.title('Electrolyzer Model Efficiency Curve', fontsize=16, pad=20)\n",
        "\n",
        "plt.plot(np.arange(0.1, 6.1, 0.1), 1.48/model_voltages)"
      ],
      "metadata": {
        "colab": {
          "base_uri": "https://localhost:8080/",
          "height": 524
        },
        "id": "zb8rMhdrnYFa",
        "outputId": "e689dd28-5028-4ce8-84cd-04b902cbc3b8"
      },
      "execution_count": 40,
      "outputs": [
        {
          "output_type": "execute_result",
          "data": {
            "text/plain": [
              "[<matplotlib.lines.Line2D at 0x7f74bcb49d50>]"
            ]
          },
          "metadata": {},
          "execution_count": 40
        },
        {
          "output_type": "display_data",
          "data": {
            "text/plain": [
              "<Figure size 640x480 with 1 Axes>"
            ],
            "image/png": "[encoded data removed]"
          },
          "metadata": {}
        }
      ]
    },
    {
      "cell_type": "code",
      "source": [],
      "metadata": {
        "id": "eKX3A6tLnW8r"
      },
      "execution_count": null,
      "outputs": []
    },
    {
      "cell_type": "code",
      "source": [
        "capex_values = [capex * system_size + ((0.26 * capex * electrode_area * (operating_current-1.7) * (model_voltages[int(operating_current*10-1)])/1000) if (operating_current-1.7)>0 else 0) for operating_current in np.arange(0.1, 6.1, 0.1)]"
      ],
      "metadata": {
        "id": "b5j-b2Hrjzz4"
      },
      "execution_count": 23,
      "outputs": []
    },
    {
      "cell_type": "code",
      "source": [
        "# Change CAPEX to log instead?\n",
        "plt.plot(np.arange(0.1, 6.1, 0.1), [capex/9000000 for capex in capex_values])\n"
      ],
      "metadata": {
        "colab": {
          "base_uri": "https://localhost:8080/",
          "height": 448
        },
        "id": "Qo-VsECxC6lg",
        "outputId": "a1ec0512-dd92-4d75-d0f9-e3ff3bd030a9"
      },
      "execution_count": 22,
      "outputs": [
        {
          "output_type": "execute_result",
          "data": {
            "text/plain": [
              "[<matplotlib.lines.Line2D at 0x7f74bd5086d0>]"
            ]
          },
          "metadata": {},
          "execution_count": 22
        },
        {
          "output_type": "display_data",
          "data": {
            "text/plain": [
              "<Figure size 640x480 with 1 Axes>"
            ],
            "image/png": "[encoded data removed]"
          },
          "metadata": {}
        }
      ]
    },
    {
      "cell_type": "code",
      "source": [
        "class HourlyParameters:\n",
        "    def __init__(self, power, hydrogen_produced, hourly_capex, opex, onm, lcoh, current):\n",
        "        self.power = power\n",
        "        self.hydrogen_produced = hydrogen_produced\n",
        "        self.hourly_capex = hourly_capex\n",
        "        self.opex = opex\n",
        "        self.onm = onm\n",
        "        self.lcoh = lcoh\n",
        "        self.current = current\n",
        "        \n",
        "    def __getitem__(self, key):\n",
        "        return getattr(self, key)"
      ],
      "metadata": {
        "id": "9-8NqTJPhJM0"
      },
      "execution_count": 24,
      "outputs": []
    },
    {
      "cell_type": "code",
      "source": [
        "def calculate_lcoh(prices):\n",
        "  optimized_list = []\n",
        "  global model_voltages \n",
        "\n",
        "\n",
        "  for price in prices:\n",
        "    now = HourlyParameters(0, 0, 0, 0, 0, 0, 0)\n",
        "    prev = HourlyParameters(0, 0, 0, 0, 0, 0, 0)\n",
        "    now_lcoh = 0\n",
        "    prev_lcoh = 0\n",
        "\n",
        "\n",
        "    for operating_current in np.arange(0.1, 6.1, 0.1):\n",
        "      power = electrode_area * operating_current * (model_voltages[int(operating_current*10-1)])/1000 # Power required, in kW\n",
        "      hydrogen_produced = (electrode_area * operating_current * molecular_weight_h2 * 3600) / (2 * faraday_constant * 1000) # Hydrogen produced, in kg\n",
        "\n",
        "      hourly_capex = capex_values[int(operating_current*10-1)] / (years * hours_per_year)\n",
        "      opex = price * power # Price\n",
        "      onm = 0.05 * hourly_capex\n",
        "\n",
        "      now_lcoh = (hourly_capex + opex + onm) / hydrogen_produced # Levelized cost of hydrogen, per kg\n",
        "\n",
        "      # print(f\"Operating Current: {operating_current:.1f} A, Power: {power:.2f} kW, Hydrogen produced: {hydrogen_produced:.4f} kg, Hourly capex: {hourly_capex:.4f} USD/kWh, Opex: {opex:.4f} USD/kWh, ONM: {onm:.4f} USD/kWh, LCOH: {now_lcoh:.4f} USD/kg\")\n",
        "\n",
        "      if now_lcoh > prev_lcoh and prev_lcoh != 0:\n",
        "        # print(\"here\", now_lcoh, \"prev\", prev_lcoh)\n",
        "        now_lcoh = prev_lcoh\n",
        "        now = prev\n",
        "        # print(\"here\")\n",
        "        break\n",
        "\n",
        "      prev_lcoh = now_lcoh\n",
        "      now = HourlyParameters(power, hydrogen_produced, hourly_capex, opex, onm, now_lcoh, operating_current)\n",
        "      prev = HourlyParameters(power, hydrogen_produced, hourly_capex, opex, onm, now_lcoh, operating_current)\n",
        "    \n",
        "    optimized_list.append(now)\n",
        "    model_voltages += model_voltages * (model_voltages[int(now.current*10-1)] * cell_voltage_degradation_rate / 1000) # Increment all of the voltages by the voltage times the degradation rate per hour\n",
        "\n",
        "    # print(f\"Electricity Price: {price:.4f} $/kWh, Operating Current: {now.current:.1f} A, Power: {now.power:.2f} kW, Hydrogen produced: {now.hydrogen_produced:.4f} kg, Hourly capex: {now.hourly_capex:.4f} USD, Opex: {now.opex:.4f} USD, ONM: {now.onm:.4f} USD, LCOH: {now.lcoh:.4f} USD/kg\")\n",
        "\n",
        "  return optimized_list, model_voltages"
      ],
      "metadata": {
        "id": "MU5U7f31gIvs"
      },
      "execution_count": 25,
      "outputs": []
    },
    {
      "cell_type": "code",
      "source": [
        "def calculate_lcoh_no_deg(prices):\n",
        "  optimized_list = []\n",
        "  # global model_voltages \n",
        "\n",
        "\n",
        "  for price in prices:\n",
        "    now = HourlyParameters(0, 0, 0, 0, 0, 0, 0)\n",
        "    prev = HourlyParameters(0, 0, 0, 0, 0, 0, 0)\n",
        "    now_lcoh = 0\n",
        "    prev_lcoh = 0\n",
        "\n",
        "\n",
        "    for operating_current in np.arange(0.1, 6.1, 0.1):\n",
        "      power = electrode_area * operating_current * (model_voltages[int(operating_current*10-1)])/1000 # Power required, in kW\n",
        "      hydrogen_produced = (electrode_area * operating_current * molecular_weight_h2 * 3600) / (2 * faraday_constant * 1000) # Hydrogen produced, in kg\n",
        "\n",
        "      hourly_capex = capex_values[int(operating_current*10-1)] / (years * hours_per_year)\n",
        "      opex = price * power # Price\n",
        "      onm = 0.05 * hourly_capex\n",
        "\n",
        "      now_lcoh = (hourly_capex + opex + onm) / hydrogen_produced # Levelized cost of hydrogen, per kg\n",
        "\n",
        "      # print(f\"Operating Current: {operating_current:.1f} A, Power: {power:.2f} kW, Hydrogen produced: {hydrogen_produced:.4f} kg, Hourly capex: {hourly_capex:.4f} USD/kWh, Opex: {opex:.4f} USD/kWh, ONM: {onm:.4f} USD/kWh, LCOH: {now_lcoh:.4f} USD/kg\")\n",
        "\n",
        "      if now_lcoh > prev_lcoh and prev_lcoh != 0:\n",
        "        # print(\"here\", now_lcoh, \"prev\", prev_lcoh)\n",
        "        now_lcoh = prev_lcoh\n",
        "        now = prev\n",
        "        # print(\"here\")\n",
        "        break\n",
        "\n",
        "      prev_lcoh = now_lcoh\n",
        "      now = HourlyParameters(power, hydrogen_produced, hourly_capex, opex, onm, now_lcoh, operating_current)\n",
        "      prev = HourlyParameters(power, hydrogen_produced, hourly_capex, opex, onm, now_lcoh, operating_current)\n",
        "    \n",
        "    optimized_list.append(now)\n",
        "    # model_voltages += model_voltages * (model_voltages[int(now.current*10-1)] * cell_voltage_degradation_rate / 1000) # Increment all of the voltages by the voltage times the degradation rate per hour\n",
        "\n",
        "    # print(f\"Electricity Price: {price:.4f} $/kWh, Operating Current: {now.current:.1f} A, Power: {now.power:.2f} kW, Hydrogen produced: {now.hydrogen_produced:.4f} kg, Hourly capex: {now.hourly_capex:.4f} USD, Opex: {now.opex:.4f} USD, ONM: {now.onm:.4f} USD, LCOH: {now.lcoh:.4f} USD/kg\")\n",
        "\n",
        "  return optimized_list"
      ],
      "metadata": {
        "id": "0cpZtQDrKEPa"
      },
      "execution_count": 26,
      "outputs": []
    },
    {
      "cell_type": "code",
      "source": [
        "def calculate_constant_lcoh(prices):\n",
        "  boring_list = []\n",
        "  operating_current = 1.7 # Our chosen set-point, in Amps\n",
        "  global model_voltages \n",
        "  now = HourlyParameters(0, 0, 0, 0, 0, 0, 0)\n",
        "\n",
        "  for price in prices:\n",
        "    power = electrode_area * operating_current * (model_voltages[int(operating_current*10-1)])/1000 # Power required, in kW\n",
        "    hydrogen_produced = (electrode_area * operating_current * molecular_weight_h2 * 3600) / (2 * faraday_constant * 1000) # Hydrogen produced, in kg\n",
        "\n",
        "    hourly_capex = capex_values[int(operating_current*10-1)] / (years * hours_per_year)\n",
        "    opex = price * power # Price\n",
        "    onm = 0.05 * hourly_capex\n",
        "\n",
        "    now_lcoh = (hourly_capex + opex + onm) / hydrogen_produced # Levelized cost of hydrogen, per kg\n",
        "\n",
        "    # print(f\"Operating Current: {operating_current:.1f} A, Power: {power:.2f} kW, Hydrogen produced: {hydrogen_produced:.4f} kg, Hourly capex: {hourly_capex:.4f} USD/kWh, Opex: {opex:.4f} USD/kWh, ONM: {onm:.4f} USD/kWh, LCOH: {now_lcoh:.4f} USD/kg\")\n",
        "\n",
        "    now = HourlyParameters(power, hydrogen_produced, hourly_capex, opex, onm, now_lcoh, operating_current)\n",
        "    boring_list.append(now)\n",
        "    model_voltages += model_voltages * (model_voltages[int(operating_current*10-1)] * cell_voltage_degradation_rate / 1000) # Increment all of the voltages by the voltage times the degradation rate per hour\n",
        "\n",
        "  # print(f\"Electricity Price: {price:.4f} $/kWh, Operating Current: {now.current:.1f} A, Power: {now.power:.2f} kW, Hydrogen produced: {now.hydrogen_produced:.4f} kg, Hourly capex: {now.hourly_capex:.4f} USD, Opex: {now.opex:.4f} USD, ONM: {now.onm:.4f} USD, LCOH: {now.lcoh:.4f} USD/kg\")\n",
        "\n",
        "  return boring_list, model_voltages"
      ],
      "metadata": {
        "id": "eEpUB3d9R3kI"
      },
      "execution_count": 27,
      "outputs": []
    },
    {
      "cell_type": "code",
      "source": [
        "dj = pd.read_csv('da_hrl_lmps.csv')\n",
        "\n",
        "# Group the rows by node ID\n",
        "grouped = dj.groupby('pnode_id')\n",
        "\n",
        "grouped.get_group(1)\n",
        "lcoh_list = []\n",
        "# Iterate over each group\n",
        "for pnode_id, group_df in grouped:\n",
        "    # Do something with the group\n",
        "    # group_df contains all the rows associated with the current node_id\n",
        "    #print(pnode_id)\n",
        "\n",
        "    three_day = calculate_lcoh_no_deg(group_df['total_lmp_da']/1000)\n",
        "    avg_power = sum([p.power for p in three_day]) / len(three_day)\n",
        "    total_hydrogen_produced = sum([p.hydrogen_produced for p in three_day])\n",
        "    total_hourly_capex = sum([p.hourly_capex for p in three_day])\n",
        "    total_opex = sum([p.opex for p in three_day])\n",
        "    total_onm = sum([p.onm for p in three_day])\n",
        "    avg_lcoh = sum([p.lcoh for p in three_day]) / len(three_day)\n",
        "    avg_current = sum([p.current for p in three_day]) / len(three_day)\n",
        "\n",
        "    three_day_avg = HourlyParameters(avg_power, total_hydrogen_produced, total_hourly_capex, total_opex, total_onm, avg_lcoh, avg_current)\n",
        "\n",
        "    lcoh_list.append(three_day_avg)\n",
        "    \n",
        "len(lcoh_list)"
      ],
      "metadata": {
        "colab": {
          "base_uri": "https://localhost:8080/",
          "height": 365
        },
        "id": "n0G-tTymIqcx",
        "outputId": "7aeb6167-d56b-4f20-b654-1a7b8f8eb705"
      },
      "execution_count": 170,
      "outputs": [
        {
          "output_type": "error",
          "ename": "KeyboardInterrupt",
          "evalue": "ignored",
          "traceback": [
            "\u001b[0;31m---------------------------------------------------------------------------\u001b[0m",
            "\u001b[0;31mKeyboardInterrupt\u001b[0m                         Traceback (most recent call last)",
            "\u001b[0;32m<ipython-input-170-c9706c445bd6>\u001b[0m in \u001b[0;36m<cell line: 9>\u001b[0;34m()\u001b[0m\n\u001b[1;32m     12\u001b[0m     \u001b[0;31m#print(pnode_id)\u001b[0m\u001b[0;34m\u001b[0m\u001b[0;34m\u001b[0m\u001b[0m\n\u001b[1;32m     13\u001b[0m \u001b[0;34m\u001b[0m\u001b[0m\n\u001b[0;32m---> 14\u001b[0;31m     \u001b[0mthree_day\u001b[0m \u001b[0;34m=\u001b[0m \u001b[0mcalculate_lcoh_no_deg\u001b[0m\u001b[0;34m(\u001b[0m\u001b[0mgroup_df\u001b[0m\u001b[0;34m[\u001b[0m\u001b[0;34m'total_lmp_da'\u001b[0m\u001b[0;34m]\u001b[0m\u001b[0;34m/\u001b[0m\u001b[0;36m1000\u001b[0m\u001b[0;34m)\u001b[0m\u001b[0;34m\u001b[0m\u001b[0;34m\u001b[0m\u001b[0m\n\u001b[0m\u001b[1;32m     15\u001b[0m     \u001b[0mavg_power\u001b[0m \u001b[0;34m=\u001b[0m \u001b[0msum\u001b[0m\u001b[0;34m(\u001b[0m\u001b[0;34m[\u001b[0m\u001b[0mp\u001b[0m\u001b[0;34m.\u001b[0m\u001b[0mpower\u001b[0m \u001b[0;32mfor\u001b[0m \u001b[0mp\u001b[0m \u001b[0;32min\u001b[0m \u001b[0mthree_day\u001b[0m\u001b[0;34m]\u001b[0m\u001b[0;34m)\u001b[0m \u001b[0;34m/\u001b[0m \u001b[0mlen\u001b[0m\u001b[0;34m(\u001b[0m\u001b[0mthree_day\u001b[0m\u001b[0;34m)\u001b[0m\u001b[0;34m\u001b[0m\u001b[0;34m\u001b[0m\u001b[0m\n\u001b[1;32m     16\u001b[0m     \u001b[0mtotal_hydrogen_produced\u001b[0m \u001b[0;34m=\u001b[0m \u001b[0msum\u001b[0m\u001b[0;34m(\u001b[0m\u001b[0;34m[\u001b[0m\u001b[0mp\u001b[0m\u001b[0;34m.\u001b[0m\u001b[0mhydrogen_produced\u001b[0m \u001b[0;32mfor\u001b[0m \u001b[0mp\u001b[0m \u001b[0;32min\u001b[0m \u001b[0mthree_day\u001b[0m\u001b[0;34m]\u001b[0m\u001b[0;34m)\u001b[0m\u001b[0;34m\u001b[0m\u001b[0;34m\u001b[0m\u001b[0m\n",
            "\u001b[0;32m<ipython-input-152-013641312674>\u001b[0m in \u001b[0;36mcalculate_lcoh_no_deg\u001b[0;34m(prices)\u001b[0m\n\u001b[1;32m     12\u001b[0m \u001b[0;34m\u001b[0m\u001b[0m\n\u001b[1;32m     13\u001b[0m     \u001b[0;32mfor\u001b[0m \u001b[0moperating_current\u001b[0m \u001b[0;32min\u001b[0m \u001b[0mnp\u001b[0m\u001b[0;34m.\u001b[0m\u001b[0marange\u001b[0m\u001b[0;34m(\u001b[0m\u001b[0;36m0.1\u001b[0m\u001b[0;34m,\u001b[0m \u001b[0;36m6.1\u001b[0m\u001b[0;34m,\u001b[0m \u001b[0;36m0.1\u001b[0m\u001b[0;34m)\u001b[0m\u001b[0;34m:\u001b[0m\u001b[0;34m\u001b[0m\u001b[0;34m\u001b[0m\u001b[0m\n\u001b[0;32m---> 14\u001b[0;31m       \u001b[0mpower\u001b[0m \u001b[0;34m=\u001b[0m \u001b[0melectrode_area\u001b[0m \u001b[0;34m*\u001b[0m \u001b[0moperating_current\u001b[0m \u001b[0;34m*\u001b[0m \u001b[0;34m(\u001b[0m\u001b[0mmodel_voltages\u001b[0m\u001b[0;34m[\u001b[0m\u001b[0mint\u001b[0m\u001b[0;34m(\u001b[0m\u001b[0moperating_current\u001b[0m\u001b[0;34m*\u001b[0m\u001b[0;36m10\u001b[0m\u001b[0;34m-\u001b[0m\u001b[0;36m1\u001b[0m\u001b[0;34m)\u001b[0m\u001b[0;34m]\u001b[0m\u001b[0;34m)\u001b[0m\u001b[0;34m/\u001b[0m\u001b[0;36m1000\u001b[0m \u001b[0;31m# Power required, in kW\u001b[0m\u001b[0;34m\u001b[0m\u001b[0;34m\u001b[0m\u001b[0m\n\u001b[0m\u001b[1;32m     15\u001b[0m       \u001b[0mhydrogen_produced\u001b[0m \u001b[0;34m=\u001b[0m \u001b[0;34m(\u001b[0m\u001b[0melectrode_area\u001b[0m \u001b[0;34m*\u001b[0m \u001b[0moperating_current\u001b[0m \u001b[0;34m*\u001b[0m \u001b[0mmolecular_weight_h2\u001b[0m \u001b[0;34m*\u001b[0m \u001b[0;36m3600\u001b[0m\u001b[0;34m)\u001b[0m \u001b[0;34m/\u001b[0m \u001b[0;34m(\u001b[0m\u001b[0;36m2\u001b[0m \u001b[0;34m*\u001b[0m \u001b[0mfaraday_constant\u001b[0m \u001b[0;34m*\u001b[0m \u001b[0;36m1000\u001b[0m\u001b[0;34m)\u001b[0m \u001b[0;31m# Hydrogen produced, in kg\u001b[0m\u001b[0;34m\u001b[0m\u001b[0;34m\u001b[0m\u001b[0m\n\u001b[1;32m     16\u001b[0m \u001b[0;34m\u001b[0m\u001b[0m\n",
            "\u001b[0;31mKeyboardInterrupt\u001b[0m: "
          ]
        }
      ]
    },
    {
      "cell_type": "code",
      "source": [
        "print(lcoh_list[0].lcoh)"
      ],
      "metadata": {
        "colab": {
          "base_uri": "https://localhost:8080/"
        },
        "id": "5yjgA_7tNsp9",
        "outputId": "2485fdf2-077c-4c0b-f3fa-e5cca2b3b471"
      },
      "execution_count": 147,
      "outputs": [
        {
          "output_type": "stream",
          "name": "stdout",
          "text": [
            "1219.120867980117\n"
          ]
        }
      ]
    },
    {
      "cell_type": "code",
      "source": [
        "lcoh2022 = calculate_lcoh(dt['total_lmp_da']/1000)"
      ],
      "metadata": {
        "id": "ZkgEgk9s1C4o"
      },
      "execution_count": null,
      "outputs": []
    },
    {
      "cell_type": "code",
      "source": [
        "ty = data['Inflated to 2020 prices']\n",
        "pk = []\n",
        "for i in range(10):\n",
        "    pk.extend(ty)\n",
        "    \n",
        "print(len(pk))"
      ],
      "metadata": {
        "colab": {
          "base_uri": "https://localhost:8080/"
        },
        "id": "jT0LAC2T7c9e",
        "outputId": "42555671-8f2a-4a1c-8884-f893cf63adb8"
      },
      "execution_count": 17,
      "outputs": [
        {
          "output_type": "stream",
          "name": "stdout",
          "text": [
            "87600\n"
          ]
        }
      ]
    },
    {
      "cell_type": "code",
      "source": [
        "lcoh20190, voltages01 = calculate_lcoh(pk)"
      ],
      "metadata": {
        "id": "5nn7c_L-8RAX"
      },
      "execution_count": 18,
      "outputs": []
    },
    {
      "cell_type": "code",
      "source": [
        "lcoh2030cac, voltages2010c = calculate_constant_lcoh(dc['$/kWh'])\n",
        "lcoh2030ca, voltages2010 = calculate_lcoh(dc['$/kWh'])"
      ],
      "metadata": {
        "id": "F0c185ea1lMc"
      },
      "execution_count": 90,
      "outputs": []
    },
    {
      "cell_type": "code",
      "source": [
        "node_lcoh2010c, voltages2010c = calculate_constant_lcoh(de10['total_lmp_da']/1000)\n",
        "node_lcoh2010, voltages2010 = calculate_lcoh(de10['total_lmp_da']/1000)"
      ],
      "metadata": {
        "id": "XU4X1eeQyu98"
      },
      "execution_count": 82,
      "outputs": []
    },
    {
      "cell_type": "code",
      "source": [
        "lcoh2030e, voltagese1 = calculate_lcoh(dr['$/kWh'])\n",
        "lcoh2030e_const, voltagese3 = calculate_constant_lcoh(dr['$/kWh'])"
      ],
      "metadata": {
        "id": "1WxYOOJRpFhJ"
      },
      "execution_count": 44,
      "outputs": []
    },
    {
      "cell_type": "code",
      "source": [
        "# print(calculate_lcoh([0.01, 0.05]))\n",
        "lcoh2019, voltages1 = calculate_lcoh(data['Inflated to 2020 prices'])"
      ],
      "metadata": {
        "id": "sVIsA2C8BZD9"
      },
      "execution_count": 43,
      "outputs": []
    },
    {
      "cell_type": "code",
      "source": [
        "lcoh2019_constant, voltages_const = calculate_constant_lcoh(data['Inflated to 2020 prices'])\n",
        "len(lcoh2019_constant)"
      ],
      "metadata": {
        "colab": {
          "base_uri": "https://localhost:8080/"
        },
        "id": "F3tEhL3xSvix",
        "outputId": "cc368d26-8c5b-4550-f3a1-a942d007c679"
      },
      "execution_count": 29,
      "outputs": [
        {
          "output_type": "execute_result",
          "data": {
            "text/plain": [
              "8760"
            ]
          },
          "metadata": {},
          "execution_count": 29
        }
      ]
    },
    {
      "cell_type": "code",
      "source": [
        "node_lcoh2013, voltages2013 = calculate_constant_lcoh(dj['total_lmp_da']/1000)\n",
        "len(node_lcoh2013)"
      ],
      "metadata": {
        "colab": {
          "base_uri": "https://localhost:8080/"
        },
        "id": "b-6Bx1VQbFaL",
        "outputId": "f7fe8b1e-566a-41ca-98f5-335e2bad396e"
      },
      "execution_count": 194,
      "outputs": [
        {
          "output_type": "execute_result",
          "data": {
            "text/plain": [
              "950616"
            ]
          },
          "metadata": {},
          "execution_count": 194
        }
      ]
    },
    {
      "cell_type": "code",
      "source": [
        "def metrics(year_data):\n",
        "  power_values = [p.power for p in year_data]\n",
        "  hydrogen_produced_values = [p.hydrogen_produced for p in year_data]\n",
        "  hourly_capex_values = [p.hourly_capex for p in year_data]\n",
        "  opex_values = [p.opex for p in year_data]\n",
        "  onm_values = [p.onm for p in year_data]\n",
        "  lcoh_values = [p.lcoh for p in year_data]\n",
        "  current_values = [p.current for p in year_data]\n",
        "\n",
        "  avg_power = sum(power_values) / len(year_data)\n",
        "  total_hydrogen_produced = sum(hydrogen_produced_values)\n",
        "  total_hourly_capex = sum(hourly_capex_values)\n",
        "  total_opex = sum(opex_values)\n",
        "  total_onm = sum(onm_values)\n",
        "  avg_lcoh = sum(lcoh_values) / len(year_data)\n",
        "  avg_current = sum(current_values) / len(year_data)\n",
        "\n",
        "\n",
        "  print(f\"Power - Min: {min(power_values):.2f}, Max: {max(power_values):.2f}, Average: {sum(power_values)/len(power_values):.2f}, Quintile: {np.percentile(power_values, 20):.2f}, {np.percentile(power_values, 60):.2f}\")\n",
        "  print(f\"Hydrogen Produced - Min: {min(hydrogen_produced_values):.4f}, Max: {max(hydrogen_produced_values):.4f}, Average: {sum(hydrogen_produced_values)/len(hydrogen_produced_values):.4f}, Quintile: {np.percentile(hydrogen_produced_values, 20):.4f}, {np.percentile(hydrogen_produced_values, 60):.4f}\")\n",
        "  print(f\"Hourly Capex - Min: {min(hourly_capex_values):.4f}, Max: {max(hourly_capex_values):.4f}, Average: {sum(hourly_capex_values)/len(hourly_capex_values):.4f}, Quintile: {np.percentile(hourly_capex_values, 20):.4f}, {np.percentile(hourly_capex_values, 60):.4f}\")\n",
        "  print(f\"Opex - Min: {min(opex_values):.4f}, Max: {max(opex_values):.4f}, Average: {sum(opex_values)/len(opex_values):.4f}, Quintile: {np.percentile(opex_values, 20):.4f}, {np.percentile(opex_values, 60):.4f}\")\n",
        "  print(f\"ONM - Min: {min(onm_values):.4f}, Max: {max(onm_values):.4f}, Average: {sum(onm_values)/len(onm_values):.4f}, Quintile: {np.percentile(onm_values, 20):.4f}, {np.percentile(onm_values, 60):.4f}\")\n",
        "  print(f\"LCOH - Min: {min(lcoh_values):.4f}, Max: {max(lcoh_values):.4f}, Average: {sum(lcoh_values)/len(lcoh_values):.4f}, Quintile: {np.percentile(lcoh_values, 20):.4f}, {np.percentile(lcoh_values, 60):.4f}\")\n",
        "  print(f\"Current - Min: {min(current_values):.1f}, Max: {max(current_values):.1f}, Average: {sum(current_values)/len(current_values):.1f}, Quintile: {np.percentile(current_values, 20):.1f}, {np.percentile(current_values, 60):.1f}\")\n",
        "  print(\"----------------\")\n",
        "  print(f\"Average power: {avg_power:.2f} kW, Total hydrogen produced: {total_hydrogen_produced:.2f} kg, Total hourly capex: {total_hourly_capex:.2f} USD, Total opex: {total_opex:.2f} USD, Total ONM: {total_onm:.2f} USD, Average LCOH: {avg_lcoh:.2f} USD/kg, Median LCOH: {np.median(lcoh_values):.2f} USD/kg, Average current: {avg_current:.2f} A\")\n",
        "  \n",
        "\n"
      ],
      "metadata": {
        "id": "Vejz5plLmGwu"
      },
      "execution_count": 31,
      "outputs": []
    },
    {
      "cell_type": "code",
      "source": [
        "const = calculate_constant_lcoh(np.arange(0.005, 0.05, 0.005))[0]\n",
        "dynamic = calculate_lcoh(np.arange(0.005, 0.05, 0.005))[0]"
      ],
      "metadata": {
        "id": "L9wvHv9vWBFy"
      },
      "execution_count": 99,
      "outputs": []
    },
    {
      "cell_type": "code",
      "source": [
        "# Add labels and title\n",
        "plt.xlabel('Electricity Price ($/kWh)', fontsize=14, labelpad=10)\n",
        "plt.ylabel('Hydrogen ($/kg)', fontsize=14, labelpad=10)\n",
        "plt.title('Constant vs. Dynamic Model', fontsize=16, pad=20)\n",
        "\n",
        "plt.plot(np.arange(0.005, 0.05, 0.005), [c.lcoh for c in const])\n",
        "plt.plot(np.arange(0.005, 0.05, 0.005), [d.lcoh for d in dynamic])"
      ],
      "metadata": {
        "colab": {
          "base_uri": "https://localhost:8080/",
          "height": 524
        },
        "id": "xXOaYqm6q70V",
        "outputId": "c6f547a3-7dfc-4f62-8e81-2b26c937d7f8"
      },
      "execution_count": 101,
      "outputs": [
        {
          "output_type": "execute_result",
          "data": {
            "text/plain": [
              "[<matplotlib.lines.Line2D at 0x7f74ba884fa0>]"
            ]
          },
          "metadata": {},
          "execution_count": 101
        },
        {
          "output_type": "display_data",
          "data": {
            "text/plain": [
              "<Figure size 640x480 with 1 Axes>"
            ],
            "image/png": "[encoded data removed]"
          },
          "metadata": {}
        }
      ]
    },
    {
      "cell_type": "code",
      "source": [
        "metrics(lcoh2030cac)\n",
        "print(np.average(dc['$/kWh']))"
      ],
      "metadata": {
        "colab": {
          "base_uri": "https://localhost:8080/"
        },
        "id": "-TZen_vY2thT",
        "outputId": "41246c52-f489-4d64-d6f9-0450c2c485bf"
      },
      "execution_count": 102,
      "outputs": [
        {
          "output_type": "stream",
          "name": "stdout",
          "text": [
            "Power - Min: 10026.75, Max: 10026.98, Average: 10026.86, Quintile: 10026.80, 10026.89\n",
            "Hydrogen Produced - Min: 214.9142, Max: 214.9142, Average: 214.9142, Quintile: 214.9142, 214.9142\n",
            "Hourly Capex - Min: 102.6694, Max: 102.6694, Average: 102.6694, Quintile: 102.6694, 102.6694\n",
            "Opex - Min: 2.8075, Max: 827.7203, Average: 434.0782, Quintile: 310.6301, 520.6906\n",
            "ONM - Min: 5.1335, Max: 5.1335, Average: 5.1335, Quintile: 5.1335, 5.1335\n",
            "LCOH - Min: 0.5147, Max: 4.3530, Average: 2.5214, Quintile: 1.9470, 2.9244\n",
            "Current - Min: 1.7, Max: 1.7, Average: 1.7, Quintile: 1.7, 1.7\n",
            "----------------\n",
            "Average power: 10026.86 kW, Total hydrogen produced: 1882863.62 kg, Total hourly capex: 899486.65 USD, Total opex: 3802959.25 USD, Total ONM: 44974.33 USD, Average LCOH: 2.52 USD/kg, Median LCOH: 2.86 USD/kg, Average current: 1.70 A\n",
            "0.04329150228307271\n"
          ]
        }
      ]
    },
    {
      "cell_type": "code",
      "source": [
        "metrics(lcoh2030ca)"
      ],
      "metadata": {
        "colab": {
          "base_uri": "https://localhost:8080/"
        },
        "id": "F8iaWi-F21yS",
        "outputId": "9b47a472-9c1d-4ffb-8ed6-a318c2cdfb8a"
      },
      "execution_count": 103,
      "outputs": [
        {
          "output_type": "stream",
          "name": "stdout",
          "text": [
            "Power - Min: 8676.45, Max: 31876.29, Average: 13415.79, Quintile: 10027.06, 10027.21\n",
            "Hydrogen Produced - Min: 189.6302, Max: 556.2486, Average: 269.1114, Quintile: 214.9142, 214.9142\n",
            "Hourly Capex - Min: 102.6694, Max: 152.8975, Average: 110.4934, Quintile: 102.6694, 102.6694\n",
            "Opex - Min: 8.9252, Max: 731.3564, Average: 455.2771, Quintile: 398.2647, 520.7027\n",
            "ONM - Min: 5.1335, Max: 7.6449, Average: 5.5247, Quintile: 5.1335, 5.1335\n",
            "LCOH - Min: 0.3047, Max: 4.3455, Average: 2.4931, Quintile: 1.9320, 2.9244\n",
            "Current - Min: 1.5, Max: 4.4, Average: 2.1, Quintile: 1.7, 1.7\n",
            "----------------\n",
            "Average power: 13415.79 kW, Total hydrogen produced: 2357685.01 kg, Total hourly capex: 968032.98 USD, Total opex: 3988682.75 USD, Total ONM: 48401.65 USD, Average LCOH: 2.49 USD/kg, Median LCOH: 2.86 USD/kg, Average current: 2.13 A\n"
          ]
        }
      ]
    },
    {
      "cell_type": "code",
      "source": [
        "metrics(node_lcoh2010c)\n",
        "print(np.average(de10['total_lmp_da']))"
      ],
      "metadata": {
        "colab": {
          "base_uri": "https://localhost:8080/"
        },
        "id": "J31DvmmuzHUD",
        "outputId": "0b3b329a-e6b5-4b52-d54c-91bdc340e8fa"
      },
      "execution_count": 86,
      "outputs": [
        {
          "output_type": "stream",
          "name": "stdout",
          "text": [
            "Power - Min: 10017.89, Max: 10022.28, Average: 10020.09, Quintile: 10018.77, 10020.53\n",
            "Hydrogen Produced - Min: 214.9142, Max: 214.9142, Average: 214.9142, Quintile: 214.9142, 214.9142\n",
            "Hourly Capex - Min: 102.6694, Max: 102.6694, Average: 102.6694, Quintile: 102.6694, 102.6694\n",
            "Opex - Min: -39.9812, Max: 3081.4019, Average: 466.6960, Quintile: 313.7548, 448.1088\n",
            "ONM - Min: 5.1335, Max: 5.1335, Average: 5.1335, Quintile: 5.1335, 5.1335\n",
            "LCOH - Min: 0.3156, Max: 14.8394, Average: 2.6732, Quintile: 1.9615, 2.5867\n",
            "Current - Min: 1.7, Max: 1.7, Average: 1.7, Quintile: 1.7, 1.7\n",
            "----------------\n",
            "Average power: 10020.09 kW, Total hydrogen produced: 35770325.34 kg, Total hourly capex: 17088295.69 USD, Total opex: 77676881.99 USD, Total ONM: 854414.78 USD, Average LCOH: 2.67 USD/kg, Median LCOH: 2.42 USD/kg, Average current: 1.70 A\n",
            "46.57613728021509\n"
          ]
        }
      ]
    },
    {
      "cell_type": "code",
      "source": [
        "metrics(node_lcoh2010)\n"
      ],
      "metadata": {
        "colab": {
          "base_uri": "https://localhost:8080/"
        },
        "id": "rVP5EkbczNkv",
        "outputId": "e2f2162c-7b6e-4dde-b8fa-875c37eee779"
      },
      "execution_count": 85,
      "outputs": [
        {
          "output_type": "stream",
          "name": "stdout",
          "text": [
            "Power - Min: 4296.89, Max: 48008.16, Average: 11380.17, Quintile: 10023.77, 11418.95\n",
            "Hydrogen Produced - Min: 101.1361, Max: 758.5208, Average: 238.7132, Quintile: 214.9142, 240.1983\n",
            "Hourly Capex - Min: 102.6694, Max: 194.4205, Average: 106.2572, Quintile: 102.6694, 105.8751\n",
            "Opex - Min: -191.5159, Max: 1321.3823, Average: 492.1321, Quintile: 407.1756, 470.5244\n",
            "ONM - Min: 5.1335, Max: 9.7210, Average: 5.3129, Quintile: 5.1335, 5.2938\n",
            "LCOH - Min: 0.0166, Max: 14.1313, Average: 2.6631, Quintile: 1.9477, 2.5870\n",
            "Current - Min: 0.8, Max: 6.0, Average: 1.9, Quintile: 1.7, 1.9\n",
            "----------------\n",
            "Average power: 11380.17 kW, Total hydrogen produced: 39731422.25 kg, Total hourly capex: 17685451.38 USD, Total opex: 81910469.27 USD, Total ONM: 884272.57 USD, Average LCOH: 2.66 USD/kg, Median LCOH: 2.42 USD/kg, Average current: 1.89 A\n"
          ]
        }
      ]
    },
    {
      "cell_type": "code",
      "source": [
        "metrics(lcoh2030e_const)\n",
        "print(np.average(dr['$/kWh']))"
      ],
      "metadata": {
        "colab": {
          "base_uri": "https://localhost:8080/"
        },
        "id": "BDDef4C5pklj",
        "outputId": "3935c661-47bc-4dbd-e56d-da133527c318"
      },
      "execution_count": 45,
      "outputs": [
        {
          "output_type": "stream",
          "name": "stdout",
          "text": [
            "Power - Min: 10017.66, Max: 10017.89, Average: 10017.78, Quintile: 10017.71, 10017.80\n",
            "Hydrogen Produced - Min: 214.9142, Max: 214.9142, Average: 214.9142, Quintile: 214.9142, 214.9142\n",
            "Hourly Capex - Min: 102.6694, Max: 102.6694, Average: 102.6694, Quintile: 102.6694, 102.6694\n",
            "Opex - Min: 0.8014, Max: 5858.3629, Average: 254.3189, Quintile: 197.6516, 260.3626\n",
            "ONM - Min: 5.1335, Max: 5.1335, Average: 5.1335, Quintile: 5.1335, 5.1335\n",
            "LCOH - Min: 0.5053, Max: 27.7607, Average: 1.6850, Quintile: 1.4213, 1.7131\n",
            "Current - Min: 1.7, Max: 1.7, Average: 1.7, Quintile: 1.7, 1.7\n",
            "----------------\n",
            "Average power: 10017.78 kW, Total hydrogen produced: 1882648.70 kg, Total hourly capex: 899383.98 USD, Total opex: 2227833.25 USD, Total ONM: 44969.20 USD, Average LCOH: 1.68 USD/kg, Median LCOH: 1.68 USD/kg, Average current: 1.70 A\n",
            "0.025386744292237442\n"
          ]
        }
      ]
    },
    {
      "cell_type": "code",
      "source": [
        "metrics(lcoh2030e)"
      ],
      "metadata": {
        "colab": {
          "base_uri": "https://localhost:8080/"
        },
        "id": "Ey6ghRvdpmC4",
        "outputId": "38b713be-61a7-43fc-da80-0045e01e5797"
      },
      "execution_count": 46,
      "outputs": [
        {
          "output_type": "stream",
          "name": "stdout",
          "text": [
            "Power - Min: 3147.67, Max: 31845.91, Average: 15964.79, Quintile: 13575.43, 15069.82\n",
            "Hydrogen Produced - Min: 75.8521, Max: 556.2486, Average: 316.0071, Quintile: 278.1243, 303.4083\n",
            "Hourly Capex - Min: 102.6694, Max: 152.8975, Average: 116.5639, Quintile: 110.9046, 114.4014\n",
            "Opex - Min: 2.5476, Max: 1840.7284, Average: 355.3834, Quintile: 335.8812, 376.8515\n",
            "ONM - Min: 5.1335, Max: 7.6449, Average: 5.8282, Quintile: 5.5452, 5.7201\n",
            "LCOH - Min: 0.2932, Max: 25.6886, Average: 1.6409, Quintile: 1.3736, 1.6865\n",
            "Current - Min: 0.6, Max: 4.4, Average: 2.5, Quintile: 2.2, 2.4\n",
            "----------------\n",
            "Average power: 15964.79 kW, Total hydrogen produced: 2768221.77 kg, Total hourly capex: 1021099.40 USD, Total opex: 3113158.30 USD, Total ONM: 51054.97 USD, Average LCOH: 1.64 USD/kg, Median LCOH: 1.65 USD/kg, Average current: 2.50 A\n"
          ]
        }
      ]
    },
    {
      "cell_type": "code",
      "source": [
        "metrics(lcoh2019_constant)\n",
        "print(np.average(data['Inflated to 2020 prices']))"
      ],
      "metadata": {
        "colab": {
          "base_uri": "https://localhost:8080/"
        },
        "id": "ttzzy1AZS83B",
        "outputId": "c9ea0c6c-a9da-4618-8388-c2c2100740e6"
      },
      "execution_count": 32,
      "outputs": [
        {
          "output_type": "stream",
          "name": "stdout",
          "text": [
            "Power - Min: 10016.94, Max: 10017.17, Average: 10017.05, Quintile: 10016.98, 10017.08\n",
            "Hydrogen Produced - Min: 214.9142, Max: 214.9142, Average: 214.9142, Quintile: 214.9142, 214.9142\n",
            "Hourly Capex - Min: 102.6694, Max: 102.6694, Average: 102.6694, Quintile: 102.6694, 102.6694\n",
            "Opex - Min: 33.0588, Max: 50787.7345, Average: 382.6004, Quintile: 161.6415, 227.6570\n",
            "ONM - Min: 5.1335, Max: 5.1335, Average: 5.1335, Quintile: 5.1335, 5.1335\n",
            "LCOH - Min: 0.6554, Max: 236.8179, Average: 2.2819, Quintile: 1.2537, 1.5609\n",
            "Current - Min: 1.7, Max: 1.7, Average: 1.7, Quintile: 1.7, 1.7\n",
            "----------------\n",
            "Average power: 10017.05 kW, Total hydrogen produced: 1882648.70 kg, Total hourly capex: 899383.98 USD, Total opex: 3351579.43 USD, Total ONM: 44969.20 USD, Average LCOH: 2.28 USD/kg, Median LCOH: 1.47 USD/kg, Average current: 1.70 A\n",
            "0.03819486580776256\n"
          ]
        }
      ]
    },
    {
      "cell_type": "code",
      "source": [
        "metrics(lcoh2019)"
      ],
      "metadata": {
        "colab": {
          "base_uri": "https://localhost:8080/"
        },
        "id": "g412J4Oy1viz",
        "outputId": "2ca1193d-c867-4f48-8c2d-814b3db500a7"
      },
      "execution_count": 33,
      "outputs": [
        {
          "output_type": "stream",
          "name": "stdout",
          "text": [
            "Power - Min: 999.60, Max: 31843.59, Average: 16270.18, Quintile: 13574.17, 17383.93\n",
            "Hydrogen Produced - Min: 25.2840, Max: 556.2486, Average: 320.9325, Quintile: 278.1243, 341.3344\n",
            "Hourly Capex - Min: 102.6694, Max: 152.8975, Average: 117.6301, Quintile: 110.9046, 119.8562\n",
            "Opex - Min: 105.0906, Max: 5068.1004, Average: 384.7314, Quintile: 309.0541, 355.8868\n",
            "ONM - Min: 5.1335, Max: 7.6449, Average: 5.8815, Quintile: 5.5452, 5.9928\n",
            "LCOH - Min: 0.4775, Max: 204.7104, Average: 2.1720, Quintile: 1.1893, 1.5244\n",
            "Current - Min: 0.2, Max: 4.4, Average: 2.5, Quintile: 2.2, 2.7\n",
            "----------------\n",
            "Average power: 16270.18 kW, Total hydrogen produced: 2811368.97 kg, Total hourly capex: 1030439.90 USD, Total opex: 3370247.39 USD, Total ONM: 51521.99 USD, Average LCOH: 2.17 USD/kg, Median LCOH: 1.43 USD/kg, Average current: 2.54 A\n"
          ]
        }
      ]
    },
    {
      "cell_type": "code",
      "source": [
        "metrics(lcoh2022)"
      ],
      "metadata": {
        "colab": {
          "base_uri": "https://localhost:8080/"
        },
        "id": "GWp8g1aZ4JVp",
        "outputId": "293955f3-0a05-4183-e575-d34b2ee92f76"
      },
      "execution_count": 48,
      "outputs": [
        {
          "output_type": "stream",
          "name": "stdout",
          "text": [
            "Power - Min: 2049.06, Max: 47960.04, Average: 16342.44, Quintile: 13574.14, 17383.79\n",
            "Hydrogen Produced - Min: 50.5681, Max: 758.5208, Average: 323.1339, Quintile: 278.1243, 341.3344\n",
            "Hourly Capex - Min: 101.5477, Max: 136.3226, Average: 106.0911, Quintile: 104.3014, 106.6066\n",
            "Opex - Min: -9926.2898, Max: 2362.5817, Average: 467.1925, Quintile: 411.5300, 467.6875\n",
            "ONM - Min: 5.0774, Max: 6.8161, Average: 5.3046, Quintile: 5.2151, 5.3303\n",
            "LCOH - Min: -12.8977, Max: 48.8356, Average: 1.8765, Quintile: 1.4047, 1.8320\n",
            "Current - Min: 0.4, Max: 6.0, Average: 2.6, Quintile: 2.2, 2.7\n",
            "----------------\n",
            "Average power: 16342.44 kW, Total hydrogen produced: 307176233.95 kg, Total hourly capex: 100851869.15 USD, Total opex: 444120638.75 USD, Total ONM: 5042593.46 USD, Average LCOH: 1.88 USD/kg, Average current: 2.56 A\n"
          ]
        }
      ]
    },
    {
      "cell_type": "code",
      "source": [
        "metrics(lcoh_list)"
      ],
      "metadata": {
        "colab": {
          "base_uri": "https://localhost:8080/"
        },
        "id": "eIrbWITENSKC",
        "outputId": "4485ede9-1911-46d1-8292-6cb0d11caee6"
      },
      "execution_count": 196,
      "outputs": [
        {
          "output_type": "stream",
          "name": "stdout",
          "text": [
            "Power - Min: 11875.97, Max: 17083.91, Average: 14214.56, Quintile: 13526.10, 14553.38\n",
            "Hydrogen Produced - Min: 17711.4614, Max: 24032.4683, Average: 20732.5071, Quintile: 19885.8878, 21162.7312\n",
            "Hourly Capex - Min: 7805.1905, Max: 8578.5382, Average: 8097.0636, Quintile: 7981.8990, 8150.9404\n",
            "Opex - Min: 25175.4686, Max: 39142.0717, Average: 28449.6980, Quintile: 27157.4155, 28919.5488\n",
            "ONM - Min: 390.2595, Max: 428.9269, Average: 404.8532, Quintile: 399.0949, 407.5470\n",
            "LCOH - Min: 1.5353, Max: 4.0256, Average: 1.8640, Quintile: 1.7125, 1.9225\n",
            "Current - Min: 1.9, Max: 2.6, Average: 2.3, Quintile: 2.2, 2.3\n",
            "----------------\n",
            "Average power: 14214.56 kW, Total hydrogen produced: 15238392.72 kg, Total hourly capex: 5951341.73 USD, Total opex: 20910528.04 USD, Total ONM: 297567.09 USD, Average LCOH: 1.86 USD/kg, Median LCOH: 1.83 USD/kg, Average current: 2.28 A\n"
          ]
        }
      ]
    },
    {
      "cell_type": "code",
      "source": [
        "metrics(node_lcoh2013)"
      ],
      "metadata": {
        "colab": {
          "base_uri": "https://localhost:8080/"
        },
        "id": "2j3nLHtUbheP",
        "outputId": "7aeaa7a3-9ccc-4aa1-de0f-818294e2b793"
      },
      "execution_count": 195,
      "outputs": [
        {
          "output_type": "stream",
          "name": "stdout",
          "text": [
            "Power - Min: 10065.77, Max: 10091.11, Average: 10078.43, Quintile: 10070.83, 10080.96\n",
            "Hydrogen Produced - Min: 214.9142, Max: 214.9142, Average: 214.9142, Quintile: 214.9142, 214.9142\n",
            "Hourly Capex - Min: 102.6694, Max: 102.6694, Average: 102.6694, Quintile: 102.6694, 102.6694\n",
            "Opex - Min: -2083.7989, Max: 11608.3753, Average: 308.9389, Quintile: 213.6121, 297.8760\n",
            "ONM - Min: 5.1335, Max: 5.1335, Average: 5.1335, Quintile: 5.1335, 5.1335\n",
            "LCOH - Min: -9.1943, Max: 54.5156, Average: 1.9391, Quintile: 1.4956, 1.8876\n",
            "Current - Min: 1.7, Max: 1.7, Average: 1.7, Quintile: 1.7, 1.7\n",
            "----------------\n",
            "Average power: 10078.43 kW, Total hydrogen produced: 204300910.78 kg, Total hourly capex: 97599178.65 USD, Total opex: 293682249.49 USD, Total ONM: 4879958.93 USD, Average LCOH: 1.94 USD/kg, Median LCOH: 1.80 USD/kg, Average current: 1.70 A\n"
          ]
        }
      ]
    },
    {
      "cell_type": "code",
      "source": [
        "\n",
        "plt.plot(np.arange(0.1, 6.1, 0.1), voltages1)\n",
        "plt.plot(np.arange(0.1, 6.1, 0.1), model_voltages)"
      ],
      "metadata": {
        "colab": {
          "base_uri": "https://localhost:8080/",
          "height": 448
        },
        "id": "n4OGcXZKAqdW",
        "outputId": "300bef5d-fca9-4a7e-f04b-ab37cd842b3c"
      },
      "execution_count": 120,
      "outputs": [
        {
          "output_type": "execute_result",
          "data": {
            "text/plain": [
              "[<matplotlib.lines.Line2D at 0x7f494a4dba00>]"
            ]
          },
          "metadata": {},
          "execution_count": 120
        },
        {
          "output_type": "display_data",
          "data": {
            "text/plain": [
              "<Figure size 640x480 with 1 Axes>"
            ],
            "image/png": "[encoded data removed]"
          },
          "metadata": {}
        }
      ]
    },
    {
      "cell_type": "code",
      "source": [
        "u = [1, 2, 3]\n",
        "z = u * 3\n",
        "print(u)\n",
        "print(z)"
      ],
      "metadata": {
        "colab": {
          "base_uri": "https://localhost:8080/"
        },
        "id": "ioLhOV1zGXbg",
        "outputId": "b879b9f9-94da-4b4e-9781-ea8566a84ff5"
      },
      "execution_count": 1,
      "outputs": [
        {
          "output_type": "stream",
          "name": "stdout",
          "text": [
            "[1, 2, 3]\n",
            "[1, 2, 3, 1, 2, 3, 1, 2, 3]\n"
          ]
        }
      ]
    }
  ]
}